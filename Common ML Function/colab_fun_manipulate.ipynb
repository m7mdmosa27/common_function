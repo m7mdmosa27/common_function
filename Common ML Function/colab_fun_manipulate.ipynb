{
 "cells": [
  {
   "attachments": {},
   "cell_type": "markdown",
   "metadata": {},
   "source": [
    "# Connecting Colab With Kaggle by API "
   ]
  },
  {
   "cell_type": "code",
   "execution_count": null,
   "metadata": {},
   "outputs": [],
   "source": [
    "import os\n",
    "\n",
    "def connect_with_kaggle(kggle_user, kaggle_key):\n",
    "    os.makedirs('/root/.kaggle') \n",
    "    my_api = '{\"username\":\"'+ kggle_user +'\",\"key\":\"'+ kaggle_key +'\"}'\n",
    "    with open('/root/.kaggle/kaggle.json', 'w') as f:\n",
    "        f.write(my_api)\n",
    "        f.close()\n",
    "    print(os.listdir('/root/.kaggle'))"
   ]
  }
 ],
 "metadata": {
  "language_info": {
   "name": "python"
  },
  "orig_nbformat": 4
 },
 "nbformat": 4,
 "nbformat_minor": 2
}
