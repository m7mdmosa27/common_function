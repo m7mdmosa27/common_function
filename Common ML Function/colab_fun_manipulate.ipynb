{
 "cells": [
  {
   "attachments": {},
   "cell_type": "markdown",
   "metadata": {},
   "source": [
    "# Connecting Colab With Kaggle by API "
   ]
  },
  {
   "cell_type": "code",
   "execution_count": null,
   "metadata": {},
   "outputs": [],
   "source": [
    "import os\n",
    "\n",
    "def connect_with_kaggle(kggle_user, kaggle_key, \n",
    "                        root_kaggle_path = '~/.kaggle'  # for Kaggle and COLAB platform this is the default. \n",
    "                                                            # you can search for the .kaggle folder on your platform\n",
    "                        ):\n",
    "    try:\n",
    "        os.makedirs(root_kaggle_path) \n",
    "    except Exception as e:\n",
    "        print(e)\n",
    "    \n",
    "    my_api = '{\"username\":\"'+ kggle_user +'\",\"key\":\"'+ kaggle_key +'\"}'\n",
    "    with open(f'{root_kaggle_path}/kaggle.json', 'w') as f:\n",
    "        f.write(my_api)\n",
    "        f.close()\n",
    "    print(os.listdir(root_kaggle_path))"
   ]
  },
  {
   "attachments": {},
   "cell_type": "markdown",
   "metadata": {},
   "source": [
    "# Create Dataset in kaggle with API"
   ]
  },
  {
   "cell_type": "code",
   "execution_count": null,
   "metadata": {},
   "outputs": [],
   "source": [
    "!kaggle datasets init -p ./dataset_dir\n",
    "!cat ./dataset_dir/dataset-metadata.json\n",
    "metadata = \"\"\"{\n",
    "  \"title\": \"Dataset Name\",\n",
    "  \"id\": \"mo7amedmosa/dataset-name\",\n",
    "  \"licenses\": [\n",
    "    {\n",
    "      \"name\": \"CC0-1.0\"\n",
    "    }\n",
    "  ]\n",
    "}\"\"\"\n",
    "with open('./dataset_dir/dataset-metadata.json', 'w') as f:\n",
    "    f.write(metadata)\n",
    "    f.close()\n",
    "!cat ./dataset_dir/dataset-metadata.json\n",
    "!kaggle datasets create --dir-mode tar -p /content/denim-2\n"
   ]
  },
  {
   "attachments": {},
   "cell_type": "markdown",
   "metadata": {},
   "source": [
    "# Add version to the existing Dataset"
   ]
  },
  {
   "cell_type": "code",
   "execution_count": null,
   "metadata": {},
   "outputs": [],
   "source": [
    "!kaggle datasets version --dir-mode tar -p /kaggle/temp/dataset -m 'v2'"
   ]
  }
 ],
 "metadata": {
  "kernelspec": {
   "display_name": "base",
   "language": "python",
   "name": "python3"
  },
  "language_info": {
   "name": "python",
   "version": "3.9.7"
  },
  "orig_nbformat": 4,
  "vscode": {
   "interpreter": {
    "hash": "e5c37c5f8138432d46b19f557496a017846bda6d52ae5c607c0d47a94c07b710"
   }
  }
 },
 "nbformat": 4,
 "nbformat_minor": 2
}
