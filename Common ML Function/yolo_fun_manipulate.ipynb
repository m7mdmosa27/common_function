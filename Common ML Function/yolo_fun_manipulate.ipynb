{
  "cells": [
    {
      "attachments": {},
      "cell_type": "markdown",
      "metadata": {},
      "source": [
        "# Add Box Label on image by using YOLOV5 Format \n",
        "\n",
        "#### Convert Yolov5 Format to (x1, y1) (x2, y2) \n",
        "\n",
        "#### Convert Yolov5 polygon Format to (x1, y1) (x2, y2)\n"
      ]
    },
    {
      "cell_type": "code",
      "execution_count": 29,
      "metadata": {
        "id": "97BuYLzIaYY-"
      },
      "outputs": [],
      "source": [
        "from glob import glob\n",
        "import cv2\n",
        "import numpy as np\n",
        "import matplotlib.pyplot as plt\n",
        "\n",
        "def convert_y2xy(l, im_w, im_h):\n",
        "    print(np.array(l.split(' '), np.float32))\n",
        "    c, xc, yc, w,h = np.array(l.split(' '), np.float32)\n",
        "    c, x1,y1, x2,y2  = np.array([c, (xc-(w/2))*im_w, (yc-(h/2))*im_h, (xc+(w/2))*im_w, (yc+(h/2))*im_h], np.int32)\n",
        "    return c, (x1,y1), (x2,y2)\n",
        "\n",
        "def conv_poloygn_to_box(l, im_w,im_h):\n",
        "    l = np.array(l.split(' '), np.float32)\n",
        "    c, xy = l[0], l[1:]\n",
        "    xs = np.array([xy[i] for i in range(0,len(xy), 2)])\n",
        "    ys = np.array([xy[i] for i in range(1,len(xy), 2)])\n",
        "\n",
        "    xmin,ymin = xs.min(), ys.min()\n",
        "    xmax,ymax = xs.max(), ys.max()\n",
        "\n",
        "    c, x1,y1, x2,y2  = np.array([c, xmin*im_w,ymin*im_h , xmax*im_w,ymax*im_h], np.int32)\n",
        "    return c, (x1,y1), (x2,y2)\n",
        "    \n",
        "\n",
        "def show_img_yolov5_format(img_name='name_of_img.jpg', path_folder='dataset/test'):\n",
        "    img_path = path_folder+'/images/'+img_name\n",
        "    label_path = path_folder+'/labels/'+img_name[:-4]+'.txt'\n",
        "    img = plt.imread(img_path)\n",
        "    im_h, im_w = img.shape[:-1]\n",
        "    with open(label_path, 'r') as f :\n",
        "        labels = f.readlines()\n",
        "        f.close()\n",
        "    for l in labels:\n",
        "        c, pt1, pt2 = conv_poloygn_to_box(l, im_h, im_w)\n",
        "        print(c, pt1, pt2)\n",
        "        cv2.rectangle(img, pt1, pt2, (255,0,0), 5)\n",
        "    plt.figure(figsize=(10,5))\n",
        "    plt.imshow(img)\n",
        "    plt.show()\n",
        "\n",
        "    return img"
      ]
    },
    {
      "attachments": {},
      "cell_type": "markdown",
      "metadata": {},
      "source": [
        "# Count number of Instance of Labels"
      ]
    },
    {
      "cell_type": "code",
      "execution_count": 1,
      "metadata": {},
      "outputs": [],
      "source": [
        "from glob import glob\n",
        "\n",
        "def count_label_instances(data_path = 'dataset_path', project='train', all = True):\n",
        "    if all == True:\n",
        "        l_path = glob(data_path + '/*/labels/*.txt')\n",
        "    else:\n",
        "        l_path = glob(data_path + f'/{project}/labels/*.txt')\n",
        "    l_index = {}\n",
        "    for l in l_path:\n",
        "        with open(l, 'r') as f:\n",
        "            lines = f.readlines()\n",
        "            f.close()\n",
        "        for line in lines:\n",
        "            obj_no = int(line.split(' ')[0])\n",
        "\n",
        "            try:\n",
        "                l_index[obj_no] += 1\n",
        "            except:\n",
        "                l_index[obj_no] = 1\n",
        "    \n",
        "    keys = list(l_index.keys())\n",
        "    values = list(l_index.values())\n",
        "    sorted_value_index = np.argsort(values)\n",
        "    sorted_dict = {keys[i]: values[i] for i in sorted_value_index[::-1]}\n",
        "    return sorted_dict\n",
        "            "
      ]
    },
    {
      "attachments": {},
      "cell_type": "markdown",
      "metadata": {},
      "source": [
        "# Removing unnecessary label from YOLO format"
      ]
    },
    {
      "cell_type": "code",
      "execution_count": null,
      "metadata": {},
      "outputs": [],
      "source": [
        "import os\n",
        "from glob import glob\n",
        "\n",
        "def remove_unlisted_label(selected_labels, data_path = 'dataset_path', project='train', all = True, add=0):\n",
        "\n",
        "    if all == True:\n",
        "        labels = glob(data_path+'/*/labels/*')\n",
        "    else:\n",
        "        labels = glob(data_path + f'/{project}/labels/*.txt')\n",
        "\n",
        "    \n",
        "    count_rm = 0\n",
        "    count_new = 0\n",
        "    for i, label in enumerate(labels):\n",
        "        print('we in label no. : ', i, ' $$$ path ', label, ' $$$',  end= ' & ')\n",
        "        lines, new_lines = [], []\n",
        "        with open(label, 'r') as f:\n",
        "            lines = f.readlines()\n",
        "            f.close()\n",
        "        for line in lines:\n",
        "            obj_no = int(line.split(' ')[0])\n",
        "            if obj_no in selected_labels:\n",
        "                spilt_line = line.split(' ')\n",
        "                spilt_line[0] = str(selected_labels.index(int(spilt_line[0])) + add)\n",
        "                new_lines.append(' '.join(spilt_line))\n",
        "    \n",
        "        if len(new_lines) != 0:\n",
        "            with open(label, 'w') as f:\n",
        "                f.writelines(new_lines)\n",
        "                f.close()\n",
        "            count_new +=1\n",
        "            print(' we added this label')\n",
        "        else:\n",
        "            path_split = label.split('/')\n",
        "            im_ph = path_split[:4] + ['images'] + [path_split[-1][:-3] + 'jpg']\n",
        "            im_ph = '/'.join(im_ph)\n",
        "\n",
        "            os.remove(label)\n",
        "            os.remove(im_ph)\n",
        "            count_rm +=1\n",
        "            print(' we remove this label')\n",
        "    \n",
        "    print('no. img that removed: ', count_rm, '\\nno. img that added', count_new)\n"
      ]
    },
    {
      "attachments": {},
      "cell_type": "markdown",
      "metadata": {},
      "source": [
        "# Creating daya.yaml file from labels' name list"
      ]
    },
    {
      "cell_type": "code",
      "execution_count": null,
      "metadata": {},
      "outputs": [],
      "source": [
        "def create_data_yaml_file(data_folder='Dataset_folder', out_file_ph ='data.yaml', seleced_names = ['l1, l2']):\n",
        "    data_yaml = f\"\"\"# Mohamed Mosa\n",
        "    path: ../{data_folder}  # dataset root dir\n",
        "    train: train/images  # train images \n",
        "    val: valid/images  # val images \n",
        "    test: test/images # test images (optional)\n",
        "\n",
        "    names:\"\"\"\n",
        "    for i, label in enumerate(seleced_names):\n",
        "        data_yaml = data_yaml + f'\\n  {i}: {label}'\n",
        "    with open(out_file_ph,'w') as f:\n",
        "        f.write(data_yaml)\n",
        "        f.close()"
      ]
    }
  ],
  "metadata": {
    "colab": {
      "provenance": []
    },
    "kernelspec": {
      "display_name": "base",
      "language": "python",
      "name": "python3"
    },
    "language_info": {
      "codemirror_mode": {
        "name": "ipython",
        "version": 3
      },
      "file_extension": ".py",
      "mimetype": "text/x-python",
      "name": "python",
      "nbconvert_exporter": "python",
      "pygments_lexer": "ipython3",
      "version": "3.9.7"
    },
    "vscode": {
      "interpreter": {
        "hash": "e5c37c5f8138432d46b19f557496a017846bda6d52ae5c607c0d47a94c07b710"
      }
    }
  },
  "nbformat": 4,
  "nbformat_minor": 0
}
