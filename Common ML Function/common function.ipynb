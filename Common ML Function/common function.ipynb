{
  "cells": [
    {
      "attachments": {},
      "cell_type": "markdown",
      "metadata": {},
      "source": [
        "# Add Box Label on image by using YOLOV5 Format \n",
        "\n",
        "#### Convert Yolov5 Format to (x1, y1) (x2, y2) \n",
        "\n",
        "#### Convert Yolov5 polygon Format to (x1, y1) (x2, y2)\n"
      ]
    },
    {
      "cell_type": "code",
      "execution_count": 29,
      "metadata": {
        "id": "97BuYLzIaYY-"
      },
      "outputs": [],
      "source": [
        "from glob import glob\n",
        "import cv2\n",
        "import numpy as np\n",
        "import matplotlib.pyplot as plt\n",
        "\n",
        "def convert_y2xy(l, im_w, im_h):\n",
        "    print(np.array(l.split(' '), np.float32))\n",
        "    c, xc, yc, w,h = np.array(l.split(' '), np.float32)\n",
        "    c, x1,y1, x2,y2  = np.array([c, (xc-(w/2))*im_w, (yc-(h/2))*im_h, (xc+(w/2))*im_w, (yc+(h/2))*im_h], np.int32)\n",
        "    return c, (x1,y1), (x2,y2)\n",
        "\n",
        "def conv_poloygn_to_box(l, im_w,im_h):\n",
        "    l = np.array(l.split(' '), np.float32)\n",
        "    c, xy = l[0], l[1:]\n",
        "    xs = np.array([xy[i] for i in range(0,len(xy), 2)])\n",
        "    ys = np.array([xy[i] for i in range(1,len(xy), 2)])\n",
        "\n",
        "    xmin,ymin = xs.min(), ys.min()\n",
        "    xmax,ymax = xs.max(), ys.max()\n",
        "\n",
        "    c, x1,y1, x2,y2  = np.array([c, xmin*im_w,ymin*im_h , xmax*im_w,ymax*im_h], np.int32)\n",
        "    return c, (x1,y1), (x2,y2)\n",
        "    \n",
        "\n",
        "def show_img_yolov5_format(img_name='name_of_img.jpg', path_folder='dataset/test'):\n",
        "    img_path = path_folder+'/images/'+img_name\n",
        "    label_path = path_folder+'/labels/'+img_name[:-4]+'.txt'\n",
        "    img = plt.imread(img_path)\n",
        "    im_h, im_w = img.shape[:-1]\n",
        "    with open(label_path, 'r') as f :\n",
        "        labels = f.readlines()\n",
        "        f.close()\n",
        "    for l in labels:\n",
        "        c, pt1, pt2 = conv_poloygn_to_box(l, im_h, im_w)\n",
        "        print(c, pt1, pt2)\n",
        "        cv2.rectangle(img, pt1, pt2, (255,0,0), 5)\n",
        "    plt.figure(figsize=(10,5))\n",
        "    plt.imshow(img)\n",
        "    plt.show()\n",
        "\n",
        "    return img"
      ]
    }
  ],
  "metadata": {
    "colab": {
      "provenance": []
    },
    "kernelspec": {
      "display_name": "Python 3",
      "name": "python3"
    },
    "language_info": {
      "name": "python"
    }
  },
  "nbformat": 4,
  "nbformat_minor": 0
}
